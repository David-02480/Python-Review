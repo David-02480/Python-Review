{
 "cells": [
  {
   "cell_type": "code",
   "execution_count": 22,
   "id": "213c02a1-b5e1-4c1c-96bd-32a916f141bb",
   "metadata": {},
   "outputs": [],
   "source": [
    "fruits = ['orange', 'apple', 'pear', 'banana', 'kiwi', 'apple', 'banana']"
   ]
  },
  {
   "cell_type": "markdown",
   "id": "f2891d35-f5a8-4838-b7ec-1c44dc5d1342",
   "metadata": {},
   "source": [
    "## Objects Methods"
   ]
  },
  {
   "cell_type": "markdown",
   "id": "3760d6c2-65e9-4714-911b-993cfd11531f",
   "metadata": {},
   "source": [
    "### list.count(x)\n",
    "Return the number of times x appears in the list"
   ]
  },
  {
   "cell_type": "code",
   "execution_count": 23,
   "id": "081b436c-2104-4867-88bf-66190fc2142d",
   "metadata": {},
   "outputs": [
    {
     "data": {
      "text/plain": [
       "1"
      ]
     },
     "execution_count": 23,
     "metadata": {},
     "output_type": "execute_result"
    }
   ],
   "source": [
    "fruits.count('orange')"
   ]
  },
  {
   "cell_type": "markdown",
   "id": "37494cd0-25fd-4c37-9f15-dc28c4bc7c53",
   "metadata": {},
   "source": [
    "### list.sort(*, Key=None, reverse=False)\n",
    "Sort the items of the list in place(The arguments can be used for sort customization)"
   ]
  },
  {
   "cell_type": "code",
   "execution_count": 24,
   "id": "ce1aeb73-fd77-4390-8967-a84eca9ae415",
   "metadata": {},
   "outputs": [
    {
     "data": {
      "text/plain": [
       "['apple', 'apple', 'banana', 'banana', 'kiwi', 'orange', 'pear']"
      ]
     },
     "execution_count": 24,
     "metadata": {},
     "output_type": "execute_result"
    }
   ],
   "source": [
    "fruits.sort()\n",
    "fruits"
   ]
  },
  {
   "cell_type": "code",
   "execution_count": 25,
   "id": "bec571a6-3db5-457f-a808-f3808c3c007e",
   "metadata": {},
   "outputs": [
    {
     "data": {
      "text/plain": [
       "['pear', 'orange', 'kiwi', 'banana', 'banana', 'apple', 'apple']"
      ]
     },
     "execution_count": 25,
     "metadata": {},
     "output_type": "execute_result"
    }
   ],
   "source": [
    "fruits.sort(reverse=True)\n",
    "fruits"
   ]
  },
  {
   "cell_type": "markdown",
   "id": "a301902c-9f98-4838-b93c-61b666ef9b4b",
   "metadata": {},
   "source": [
    "### Lists as Stacks\n",
    "list.append(x) -> Add an item to the end of the list\n",
    "\n",
    "list.insert(i,x) -> Insert an item at a given position\n",
    "\n",
    "list.remove(x) -> Remove the first item from the list whose value is equal to x\n",
    "\n",
    "list.pop([i]) -> Remove the item ar the given position on the list. If no index is specified it removes and returns the last item in the list"
   ]
  },
  {
   "cell_type": "code",
   "execution_count": null,
   "id": "19a2f7ba-97b6-41fe-95a0-26b66214adde",
   "metadata": {},
   "outputs": [],
   "source": []
  }
 ],
 "metadata": {
  "kernelspec": {
   "display_name": "Python 3 (ipykernel)",
   "language": "python",
   "name": "python3"
  },
  "language_info": {
   "codemirror_mode": {
    "name": "ipython",
    "version": 3
   },
   "file_extension": ".py",
   "mimetype": "text/x-python",
   "name": "python",
   "nbconvert_exporter": "python",
   "pygments_lexer": "ipython3",
   "version": "3.11.6"
  }
 },
 "nbformat": 4,
 "nbformat_minor": 5
}
